{
 "cells": [
  {
   "cell_type": "code",
   "execution_count": 45,
   "metadata": {
    "collapsed": false
   },
   "outputs": [
    {
     "data": {
      "text/html": [
       "<iframe id=\"igraph\" scrolling=\"no\" style=\"border:none;\" seamless=\"seamless\" src=\"https://plot.ly/~robertobruttomesso/34.embed\" height=\"700px\" width=\"700px\"></iframe>"
      ],
      "text/plain": [
       "<plotly.tools.PlotlyDisplay object>"
      ]
     },
     "execution_count": 45,
     "metadata": {},
     "output_type": "execute_result"
    }
   ],
   "source": [
    "import plotly.plotly as py\n",
    "import plotly.graph_objs as go\n",
    "\n",
    "x = [line.split()[2] for line in open('results_20170911/out_intrepyd_parallel.txt')]\n",
    "y = [line.split()[2] for line in open('results_20170911/out_luke.txt')]\n",
    "t = [line.split()[0] for line in open('results_20170911/out_intrepyd_parallel.txt')]\n",
    "\n",
    "trace = go.Scatter(\n",
    "    x = x, \n",
    "    y = y, \n",
    "    mode = 'markers',\n",
    "    marker = dict(size = 10),\n",
    "    text = t,\n",
    "    name = 'all'\n",
    ")\n",
    "\n",
    "line = go.Scatter(\n",
    "    x = [0.01, 500], \n",
    "    y = [0.01, 500],\n",
    "    mode = 'lines',\n",
    "    name = 'tieline'\n",
    ")\n",
    "\n",
    "data = [trace, line]\n",
    "\n",
    "layout = go.Layout(\n",
    "    xaxis=dict(\n",
    "        title='intrepyd',\n",
    "        type='log',\n",
    "        autorange=True\n",
    "    ),\n",
    "    yaxis=dict(\n",
    "        title='luke',\n",
    "        type='log',\n",
    "        autorange=True\n",
    "    ),\n",
    "    title='Intrepyd vs Luke on kind2 benchmarks',\n",
    "    width=700,\n",
    "    height=700,\n",
    "    showlegend = False\n",
    ")\n",
    "\n",
    "fig = go.Figure(data=data, layout=layout)\n",
    "py.iplot(fig, filename='intrepyd-vs-luke-all')\n",
    "\n"
   ]
  },
  {
   "cell_type": "code",
   "execution_count": 44,
   "metadata": {
    "collapsed": false
   },
   "outputs": [
    {
     "data": {
      "text/html": [
       "<iframe id=\"igraph\" scrolling=\"no\" style=\"border:none;\" seamless=\"seamless\" src=\"https://plot.ly/~robertobruttomesso/32.embed\" height=\"700px\" width=\"700px\"></iframe>"
      ],
      "text/plain": [
       "<plotly.tools.PlotlyDisplay object>"
      ]
     },
     "execution_count": 44,
     "metadata": {},
     "output_type": "execute_result"
    }
   ],
   "source": [
    "known_intrepyd_valid = [line.split()[0] for line in open('results_20170911/out_intrepyd_parallel.txt') if line.split()[1] == 'Valid']\n",
    "known_luke_valid = [line.split()[0] for line in open('results_20170911/out_luke.txt') if line.split()[1] == 'Valid']\n",
    "\n",
    "all_known_valid = set(known_intrepyd_valid + known_luke_valid)\n",
    "\n",
    "x = [line.split()[2] for line in open('results_20170911/out_intrepyd_parallel.txt') if line.split()[0] in all_known_valid]\n",
    "y = [line.split()[2] for line in open('results_20170911/out_luke.txt') if line.split()[0] in all_known_valid]\n",
    "t = [line.split()[0] for line in open('results_20170911/out_intrepyd_parallel.txt') if line.split()[0] in all_known_valid]\n",
    "\n",
    "trace = go.Scatter(\n",
    "    x = x, \n",
    "    y = y, \n",
    "    mode = 'markers',\n",
    "    marker = dict(size = 10),\n",
    "    text = t,\n",
    "    name = 'all'\n",
    ")\n",
    "\n",
    "line = go.Scatter(\n",
    "    x = [0.01, 500], \n",
    "    y = [0.01, 500],\n",
    "    mode = 'lines',\n",
    "    name = 'tieline'\n",
    ")\n",
    "\n",
    "data = [trace, line]\n",
    "\n",
    "layout = go.Layout(\n",
    "    xaxis=dict(\n",
    "        title='intrepyd',\n",
    "        type='log',\n",
    "        autorange=True\n",
    "    ),\n",
    "    yaxis=dict(\n",
    "        title='luke',\n",
    "        type='log',\n",
    "        autorange=True\n",
    "    ),\n",
    "    title='Intrepyd vs Luke on known Valid kind2 benchmarks',\n",
    "    width=700,\n",
    "    height=700,\n",
    "    showlegend = False\n",
    ")\n",
    "\n",
    "fig = go.Figure(data=data, layout=layout)\n",
    "py.iplot(fig, filename='intrepyd-vs-luke-valid')\n"
   ]
  },
  {
   "cell_type": "code",
   "execution_count": 43,
   "metadata": {
    "collapsed": false
   },
   "outputs": [
    {
     "data": {
      "text/html": [
       "<iframe id=\"igraph\" scrolling=\"no\" style=\"border:none;\" seamless=\"seamless\" src=\"https://plot.ly/~robertobruttomesso/30.embed\" height=\"700px\" width=\"700px\"></iframe>"
      ],
      "text/plain": [
       "<plotly.tools.PlotlyDisplay object>"
      ]
     },
     "execution_count": 43,
     "metadata": {},
     "output_type": "execute_result"
    }
   ],
   "source": [
    "known_intrepyd_invalid = [line.split()[0] for line in open('results_20170911/out_intrepyd_parallel.txt') if line.split()[1] == 'Invalid']\n",
    "known_luke_invalid = [line.split()[0] for line in open('results_20170911/out_luke.txt') if line.split()[1] == 'Invalid']\n",
    "\n",
    "all_known_invalid = set(known_intrepyd_invalid + known_luke_invalid)\n",
    "\n",
    "x = [line.split()[2] for line in open('results_20170911/out_intrepyd_parallel.txt') if line.split()[0] in all_known_invalid]\n",
    "y = [line.split()[2] for line in open('results_20170911/out_luke.txt') if line.split()[0] in all_known_invalid]\n",
    "t = [line.split()[0] for line in open('results_20170911/out_intrepyd_parallel.txt') if line.split()[0] in all_known_invalid]\n",
    "\n",
    "trace = go.Scatter(\n",
    "    x = x, \n",
    "    y = y, \n",
    "    mode = 'markers',\n",
    "    marker = dict(size = 10),\n",
    "    text = t,\n",
    "    name = 'all'\n",
    ")\n",
    "\n",
    "line = go.Scatter(\n",
    "    x = [0.01, 500], \n",
    "    y = [0.01, 500],\n",
    "    mode = 'lines',\n",
    "    name = 'tieline'\n",
    ")\n",
    "\n",
    "data = [trace, line]\n",
    "\n",
    "layout = go.Layout(\n",
    "    xaxis=dict(\n",
    "        title='intrepyd',\n",
    "        type='log',\n",
    "        autorange=True\n",
    "    ),\n",
    "    yaxis=dict(\n",
    "        title='luke',\n",
    "        type='log',\n",
    "        autorange=True\n",
    "    ),\n",
    "    title='Intrepyd vs Luke on known Invalid kind2 benchmarks',\n",
    "    width=700,\n",
    "    height=700,\n",
    "    showlegend = False\n",
    ")\n",
    "\n",
    "fig = go.Figure(data=data, layout=layout)\n",
    "py.iplot(fig, filename='intrepyd-vs-luke-invalid')\n"
   ]
  },
  {
   "cell_type": "code",
   "execution_count": 50,
   "metadata": {
    "collapsed": false
   },
   "outputs": [
    {
     "data": {
      "text/html": [
       "<iframe id=\"igraph\" scrolling=\"no\" style=\"border:none;\" seamless=\"seamless\" src=\"https://plot.ly/~robertobruttomesso/36.embed\" height=\"525px\" width=\"100%\"></iframe>"
      ],
      "text/plain": [
       "<plotly.tools.PlotlyDisplay object>"
      ]
     },
     "execution_count": 50,
     "metadata": {},
     "output_type": "execute_result"
    }
   ],
   "source": [
    "time_intrepyd = [line.split()[2] for line in open('results_20170911/out_intrepyd_parallel.txt') if line.split()[1] != 'Timeout']\n",
    "time_luke = [line.split()[2] for line in open('results_20170911/out_luke.txt') if line.split()[1] != 'Timeout']\n",
    "\n",
    "x_intrepyd = range(len(time_intrepyd))\n",
    "x_luke = range(len(time_luke))\n",
    "\n",
    "time_intrepyd = sorted(time_intrepyd)\n",
    "y_intrepyd = []\n",
    "acc = 0.0\n",
    "for value in time_intrepyd:\n",
    "    acc = acc + float(value)\n",
    "    y_intrepyd.append(acc)\n",
    "    \n",
    "time_luke = sorted(time_luke)\n",
    "y_luke = []\n",
    "acc = 0.0\n",
    "for value in time_luke:\n",
    "    acc = acc + float(value)\n",
    "    y_luke.append(acc)\n",
    "\n",
    "trace_intrepyd = go.Scatter(\n",
    "    x = x_intrepyd, \n",
    "    y = y_intrepyd, \n",
    "    mode = 'lines',\n",
    "    name = 'Intrepyd'\n",
    ")\n",
    "    \n",
    "trace_luke = go.Scatter(\n",
    "    x = x_luke, \n",
    "    y = y_luke, \n",
    "    mode = 'lines',\n",
    "    name = 'Luke'\n",
    ")\n",
    "\n",
    "data = [trace_intrepyd, trace_luke]\n",
    "\n",
    "layout = go.Layout(\n",
    "    xaxis=dict(\n",
    "        title='# solved instances',\n",
    "        autorange=True\n",
    "    ),\n",
    "    yaxis=dict(\n",
    "        title='accumulated time (s)',\n",
    "        type='log',\n",
    "        autorange=True\n",
    "    ),\n",
    "    title='Intrepyd vs Luke on kind2 benchmarks',\n",
    "    showlegend = True\n",
    ")\n",
    "\n",
    "fig = go.Figure(data=data, layout=layout)\n",
    "py.iplot(fig, filename='intrepyd-vs-luke-all-survival')\n"
   ]
  },
  {
   "cell_type": "code",
   "execution_count": null,
   "metadata": {
    "collapsed": true
   },
   "outputs": [],
   "source": []
  }
 ],
 "metadata": {
  "anaconda-cloud": {},
  "kernelspec": {
   "display_name": "Python [conda root]",
   "language": "python",
   "name": "conda-root-py"
  },
  "language_info": {
   "codemirror_mode": {
    "name": "ipython",
    "version": 2
   },
   "file_extension": ".py",
   "mimetype": "text/x-python",
   "name": "python",
   "nbconvert_exporter": "python",
   "pygments_lexer": "ipython2",
   "version": "2.7.12"
  }
 },
 "nbformat": 4,
 "nbformat_minor": 2
}
